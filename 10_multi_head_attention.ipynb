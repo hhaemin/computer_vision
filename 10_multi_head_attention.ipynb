{
  "cells": [
    {
      "cell_type": "markdown",
      "metadata": {
        "id": "view-in-github",
        "colab_type": "text"
      },
      "source": [
        "<a href=\"https://colab.research.google.com/github/hhaemin/computer_vision/blob/main/10_multi_head_attention.ipynb\" target=\"_parent\"><img src=\"https://colab.research.google.com/assets/colab-badge.svg\" alt=\"Open In Colab\"/></a>"
      ]
    },
    {
      "cell_type": "code",
      "execution_count": 1,
      "id": "00809bdd",
      "metadata": {
        "id": "00809bdd"
      },
      "outputs": [],
      "source": [
        "import torch, torchvision\n",
        "import torchvision.models as models\n",
        "import torchvision.datasets as datasets\n",
        "\n",
        "import torch.nn as nn\n",
        "\n",
        "import matplotlib.pyplot as plt\n",
        "from PIL import Image"
      ]
    },
    {
      "cell_type": "markdown",
      "id": "5770c029",
      "metadata": {
        "id": "5770c029"
      },
      "source": [
        "## Multi-head Attention\n",
        "\n",
        "\n",
        "https://pytorch.org/docs/stable/generated/torch.nn.MultiheadAttention.html\n",
        "\n",
        "https://pytorch.org/docs/stable/_modules/torch/nn/modules/activation.html#MultiheadAttention\n"
      ]
    },
    {
      "cell_type": "markdown",
      "id": "81a3ede3",
      "metadata": {
        "id": "81a3ede3"
      },
      "source": [
        "## 1. Do pixel-level attention"
      ]
    },
    {
      "cell_type": "code",
      "execution_count": 2,
      "id": "37e1e548",
      "metadata": {
        "colab": {
          "base_uri": "https://localhost:8080/"
        },
        "id": "37e1e548",
        "outputId": "a9b34d51-1b6f-4177-d4e5-ee0957166f7a"
      },
      "outputs": [
        {
          "output_type": "stream",
          "name": "stdout",
          "text": [
            "torch.Size([8, 3, 6400]) torch.Size([8, 3, 6400]) torch.Size([8, 3, 6400])\n",
            "torch.Size([8, 3, 6400]) torch.Size([8, 3, 3])\n",
            "torch.Size([8, 3, 80, 80])\n"
          ]
        }
      ],
      "source": [
        "B, C, H, W = 8, 3, 80, 80\n",
        "\n",
        "query = torch.randn(B, C, H, W).reshape(B, C, -1)\n",
        "key = torch.randn(B, C, H, W).reshape(B, C, -1)\n",
        "value = torch.randn(B, C, H, W).reshape(B, C, -1)\n",
        "\n",
        "print(query.shape, key.shape, value.shape)\n",
        "\n",
        "embed_dim= H*W  ## input embedding dim\n",
        "num_heads= 8    ## hidden layer flexiblity\n",
        "\n",
        "multihead_attn = nn.MultiheadAttention(embed_dim, num_heads, batch_first=True)\n",
        "\n",
        "attn_output, attn_output_weights = multihead_attn(query, key, value)\n",
        "\n",
        "print(attn_output.shape, attn_output_weights.shape)\n",
        "attn_output = attn_output.reshape(B, C, H, W)\n",
        "print(attn_output.shape)"
      ]
    },
    {
      "cell_type": "markdown",
      "id": "1a34ef1a",
      "metadata": {
        "id": "1a34ef1a"
      },
      "source": [
        "## 2. Sampling patch"
      ]
    },
    {
      "cell_type": "code",
      "execution_count": 3,
      "id": "8283e6c8",
      "metadata": {
        "colab": {
          "base_uri": "https://localhost:8080/"
        },
        "id": "8283e6c8",
        "outputId": "24ab242c-cd4a-43b0-ec29-67492a608f8f"
      },
      "outputs": [
        {
          "output_type": "stream",
          "name": "stdout",
          "text": [
            "torch.Size([8, 768, 25]) torch.Size([8, 768, 25]) torch.Size([8, 768, 25])\n",
            "torch.Size([8, 768, 25]) torch.Size([8, 768, 768])\n",
            "torch.Size([8, 3, 16, 16, 25])\n"
          ]
        }
      ],
      "source": [
        "unfold = nn.Unfold(kernel_size=(16, 16), stride = (16,16))\n",
        "\n",
        "q_patches = unfold(query.reshape(B, C, H, W))\n",
        "k_patches = unfold(key.reshape(B, C, H, W))\n",
        "v_patches = unfold(value.reshape(B, C, H, W))\n",
        "\n",
        "print(q_patches.shape, k_patches.shape, v_patches.shape)\n",
        "\n",
        "embed_dim= H*W // 16 // 16 \n",
        "num_heads = 5\n",
        "\n",
        "\n",
        "multihead_attn = nn.MultiheadAttention(embed_dim, num_heads, batch_first=True)\n",
        "\n",
        "\n",
        "attn_output, attn_output_weights = multihead_attn(q_patches, k_patches, v_patches)\n",
        "\n",
        "\n",
        "print(attn_output.shape, attn_output_weights.shape)\n",
        "\n",
        "attn_output = attn_output.reshape(B, 3, 16, 16, 25)\n",
        "\n",
        "print(attn_output.shape)\n",
        "# attn_output = attn_output.reshape(B, C, H, W)\n",
        "# print(attn_output.shape)"
      ]
    },
    {
      "cell_type": "markdown",
      "id": "eb63e9f9",
      "metadata": {
        "id": "eb63e9f9"
      },
      "source": [
        "## 3. After MLP"
      ]
    },
    {
      "cell_type": "code",
      "execution_count": 4,
      "id": "39a22397",
      "metadata": {
        "colab": {
          "base_uri": "https://localhost:8080/"
        },
        "id": "39a22397",
        "outputId": "eb3e00cd-f379-4654-ae7a-59cd19095e6b"
      },
      "outputs": [
        {
          "output_type": "stream",
          "name": "stdout",
          "text": [
            "torch.Size([8, 768, 16]) torch.Size([8, 768, 16]) torch.Size([8, 768, 16])\n",
            "torch.Size([8, 768, 16]) torch.Size([8, 768, 768])\n"
          ]
        }
      ],
      "source": [
        "mlp_embed_dim = 16\n",
        "\n",
        "q_linear = nn.Linear(embed_dim, mlp_embed_dim)\n",
        "k_linear = nn.Linear(embed_dim, mlp_embed_dim)\n",
        "v_linear = nn.Linear(embed_dim, mlp_embed_dim)\n",
        "\n",
        "q_embed = q_linear(q_patches)\n",
        "k_embed = k_linear(k_patches)\n",
        "v_embed = v_linear(v_patches)\n",
        "\n",
        "print(q_embed.shape, k_embed.shape, v_embed.shape)\n",
        "\n",
        "num_heads = 4\n",
        "\n",
        "\n",
        "multihead_attn = nn.MultiheadAttention(mlp_embed_dim, num_heads, batch_first=True)\n",
        "\n",
        "\n",
        "attn_output, attn_output_weights = multihead_attn(q_embed, k_embed, v_embed)\n",
        "\n",
        "print(attn_output.shape, attn_output_weights.shape)"
      ]
    },
    {
      "cell_type": "code",
      "execution_count": null,
      "id": "ebda99b2",
      "metadata": {
        "id": "ebda99b2"
      },
      "outputs": [],
      "source": []
    }
  ],
  "metadata": {
    "kernelspec": {
      "display_name": "isp2",
      "language": "python",
      "name": "isp2"
    },
    "language_info": {
      "codemirror_mode": {
        "name": "ipython",
        "version": 3
      },
      "file_extension": ".py",
      "mimetype": "text/x-python",
      "name": "python",
      "nbconvert_exporter": "python",
      "pygments_lexer": "ipython3",
      "version": "3.9.7"
    },
    "colab": {
      "provenance": [],
      "include_colab_link": true
    }
  },
  "nbformat": 4,
  "nbformat_minor": 5
}