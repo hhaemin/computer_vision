{
  "cells": [
    {
      "cell_type": "markdown",
      "metadata": {
        "id": "view-in-github",
        "colab_type": "text"
      },
      "source": [
        "<a href=\"https://colab.research.google.com/github/hhaemin/computer_vision/blob/main/5_Batch_normalization_and_its_variations.ipynb\" target=\"_parent\"><img src=\"https://colab.research.google.com/assets/colab-badge.svg\" alt=\"Open In Colab\"/></a>"
      ]
    },
    {
      "cell_type": "markdown",
      "id": "8d1bdc64",
      "metadata": {
        "id": "8d1bdc64"
      },
      "source": [
        "# Batch normalization , Layer Normalization,  Instance Normalization, and Group Normalization\n",
        "\n",
        "![](./data/group_norm.png) \n",
        "\n",
        "\n",
        "\n",
        "https://wandb.ai/wandb_fc/GroupNorm/reports/Group-Normalization-in-Pytorch-With-Examples---VmlldzoxMzU0MzMy\n",
        "\n",
        "\n",
        "\n",
        "https://pytorch.org/docs/stable/generated/torch.nn.GroupNorm.html"
      ]
    },
    {
      "cell_type": "markdown",
      "source": [
        "Batch Nomalization의 큰 단점 : Batch size에 민감하다.\n",
        "(batch size = 32, 256, 1024 일땐 잘 작동하지만, \n",
        "batch size = 16, 8, 4로 줄어들수록 성능이 크게 감소한다.)\n",
        "-> 이것을 보완하기 위해서 나온 것 Layer Normalization, Instance Normalization, Group Normalizaion"
      ],
      "metadata": {
        "id": "C5-S1jRoEggV"
      },
      "id": "C5-S1jRoEggV"
    },
    {
      "cell_type": "code",
      "execution_count": 1,
      "id": "51e99151",
      "metadata": {
        "id": "51e99151"
      },
      "outputs": [],
      "source": [
        "import torch, torchvision\n",
        "import torch.nn as nn\n",
        "import torchvision.models as models\n",
        "import torchvision.datasets as datasets\n",
        "\n",
        "import matplotlib.pyplot as plt\n",
        "from PIL import Image"
      ]
    },
    {
      "cell_type": "markdown",
      "id": "cac5a629",
      "metadata": {
        "id": "cac5a629"
      },
      "source": [
        "\n",
        "Batch norm, layer norm, instance norm, group norm\n",
        "\n",
        "https://pytorch.org/docs/stable/nn.html\n",
        "\n",
        "\n",
        "\n",
        "\n",
        "\n",
        "https://pytorch.org/docs/stable/generated/torch.nn.LayerNorm.html#torch.nn.LayerNorm\n",
        "\n",
        "https://pytorch.org/docs/stable/generated/torch.nn.GroupNorm.html\n",
        "    "
      ]
    },
    {
      "cell_type": "code",
      "execution_count": 2,
      "id": "ae8a809d",
      "metadata": {
        "id": "ae8a809d"
      },
      "outputs": [],
      "source": [
        "class BatchNorm(nn.Module):\n",
        "    def __init__(self, in_channel, out_channels):\n",
        "        super(BatchNorm, self).__init__()\n",
        "        self.bn = nn.BatchNorm2d(in_channel)\n",
        "        \n",
        "    def forward(self,x):\n",
        "        out = self.bn(x)  #[N, C, HW] -> [N, C, HW]\n",
        "        \n",
        "        \n",
        "        return out\n",
        "\n",
        "    \n",
        "## For different sequences, e.g., RNN.\n",
        "class LayerNorm(nn.Module):\n",
        "    def __init__(self, in_shape, out_channels):\n",
        "        super(LayerNorm, self).__init__()\n",
        "        self.ln = nn.LayerNorm(in_shape, eps=1e-08)\n",
        "\n",
        "    def forward(self,x):\n",
        "        out = self.ln(x)  #[N, C, HW] -> [N, C, HW]\n",
        "\n",
        "        \n",
        "        return out\n",
        "\n",
        "    \n",
        "## For style transfer, domain adaptation.\n",
        "class InstanceNorm(nn.Module):\n",
        "    def __init__(self, in_channel, out_channels):\n",
        "        super(InstanceNorm, self).__init__()\n",
        "        self.In = nn.InstanceNorm2d(in_channel, eps=1e-08) \n",
        "\n",
        "    def forward(self,x):\n",
        "        out = self.In(x)  #[N, C, HW] -> [N, C, HW]\n",
        "        return out\n",
        "\n",
        "    \n",
        "## stable in small batch size.\n",
        "class GroupNorm(nn.Module):\n",
        "    def __init__(self, group_size, in_channel, out_channels):\n",
        "        super(GroupNorm, self).__init__()\n",
        "        self.gn = nn.GroupNorm(group_size, in_channel, eps=1e-08)  ## num_group and in_channel\n",
        "\n",
        "    def forward(self,x):\n",
        "        out = self.gn(x) #[N, C, HW] -> [N, C, HW]\n",
        "        \n",
        "        return out\n"
      ]
    },
    {
      "cell_type": "code",
      "execution_count": 3,
      "id": "0b15bb33",
      "metadata": {
        "colab": {
          "base_uri": "https://localhost:8080/"
        },
        "id": "0b15bb33",
        "outputId": "b206bd58-0c55-4994-9dd0-379a1abef6e5"
      },
      "outputs": [
        {
          "output_type": "stream",
          "name": "stdout",
          "text": [
            "torch.Size([8, 64, 120, 120])\n"
          ]
        }
      ],
      "source": [
        "in_channel = 64\n",
        "feature = torch.randn(8, in_channel, 120, 120)  ## temp tensor [B, C, H, W]\n",
        "\n",
        "\n",
        "BN = BatchNorm(in_channel, out_channels=64)\n",
        "\n",
        "out_feat = BN(feature)\n",
        "\n",
        "print(out_feat.shape)"
      ]
    },
    {
      "cell_type": "code",
      "execution_count": 4,
      "id": "017bb7f9",
      "metadata": {
        "colab": {
          "base_uri": "https://localhost:8080/"
        },
        "id": "017bb7f9",
        "outputId": "822821ce-a872-4c0e-c880-84c7864e8ac4"
      },
      "outputs": [
        {
          "output_type": "stream",
          "name": "stdout",
          "text": [
            "torch.Size([8, 64, 120, 120])\n"
          ]
        }
      ],
      "source": [
        "LN = LayerNorm(in_shape=list(feature.shape[1:]), out_channels=64)\n",
        "\n",
        "out_feat = LN(feature)\n",
        "\n",
        "print(out_feat.shape)"
      ]
    },
    {
      "cell_type": "code",
      "execution_count": 5,
      "id": "4b91e4bb",
      "metadata": {
        "colab": {
          "base_uri": "https://localhost:8080/"
        },
        "id": "4b91e4bb",
        "outputId": "5d6eac61-29ed-4f9c-e001-da0e232ef5f1"
      },
      "outputs": [
        {
          "output_type": "stream",
          "name": "stdout",
          "text": [
            "torch.Size([8, 64, 120, 120])\n"
          ]
        }
      ],
      "source": [
        "IN=InstanceNorm(in_channel, out_channels=64)\n",
        "\n",
        "out_feat = IN(feature)\n",
        "\n",
        "print(out_feat.shape)"
      ]
    },
    {
      "cell_type": "code",
      "execution_count": 6,
      "id": "e76e8af7",
      "metadata": {
        "colab": {
          "base_uri": "https://localhost:8080/"
        },
        "id": "e76e8af7",
        "outputId": "b7b85a96-eba3-4d2f-ce67-63963c99fae7"
      },
      "outputs": [
        {
          "output_type": "stream",
          "name": "stdout",
          "text": [
            "torch.Size([8, 64, 120, 120])\n",
            "torch.Size([8, 64, 120, 120])\n"
          ]
        }
      ],
      "source": [
        "GN=GroupNorm(group_size=2, in_channel=in_channel, out_channels=64)\n",
        "\n",
        "out_feat = GN(feature)\n",
        "\n",
        "print(out_feat.shape)  ## 32 / 32\n",
        "\n",
        "GN=GroupNorm(group_size=4, in_channel=in_channel, out_channels=64)\n",
        "\n",
        "out_feat = GN(feature)\n",
        "\n",
        "print(out_feat.shape)  ## 16 / 16 / 16 / 16"
      ]
    },
    {
      "cell_type": "code",
      "execution_count": null,
      "id": "d5a31887",
      "metadata": {
        "id": "d5a31887"
      },
      "outputs": [],
      "source": []
    },
    {
      "cell_type": "code",
      "execution_count": null,
      "id": "7c66c61c",
      "metadata": {
        "id": "7c66c61c"
      },
      "outputs": [],
      "source": []
    }
  ],
  "metadata": {
    "kernelspec": {
      "display_name": "isp2",
      "language": "python",
      "name": "isp2"
    },
    "language_info": {
      "codemirror_mode": {
        "name": "ipython",
        "version": 3
      },
      "file_extension": ".py",
      "mimetype": "text/x-python",
      "name": "python",
      "nbconvert_exporter": "python",
      "pygments_lexer": "ipython3",
      "version": "3.9.7"
    },
    "colab": {
      "provenance": [],
      "include_colab_link": true
    }
  },
  "nbformat": 4,
  "nbformat_minor": 5
}